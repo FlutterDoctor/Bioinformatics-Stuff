{
  "nbformat": 4,
  "nbformat_minor": 0,
  "metadata": {
    "colab": {
      "provenance": []
    },
    "kernelspec": {
      "name": "python3",
      "display_name": "Python 3"
    },
    "language_info": {
      "name": "python"
    }
  },
  "cells": [
    {
      "cell_type": "markdown",
      "source": [
        "# Load the data"
      ],
      "metadata": {
        "id": "nKsb2VkNywnB"
      }
    },
    {
      "cell_type": "code",
      "execution_count": 2,
      "metadata": {
        "colab": {
          "base_uri": "https://localhost:8080/"
        },
        "id": "HY5SBFwIxMD8",
        "outputId": "2b326626-2990-4847-ad3c-0a092e774a39"
      },
      "outputs": [
        {
          "output_type": "stream",
          "name": "stdout",
          "text": [
            "   patient_id  age_at_diagnosis type_of_breast_surgery    cancer_type  \\\n",
            "0           0             75.65             MASTECTOMY  Breast Cancer   \n",
            "1           2             43.19      BREAST CONSERVING  Breast Cancer   \n",
            "2           5             48.87             MASTECTOMY  Breast Cancer   \n",
            "3           6             47.68             MASTECTOMY  Breast Cancer   \n",
            "4           8             76.97             MASTECTOMY  Breast Cancer   \n",
            "\n",
            "                        cancer_type_detailed cellularity  chemotherapy  \\\n",
            "0           Breast Invasive Ductal Carcinoma         NaN             0   \n",
            "1           Breast Invasive Ductal Carcinoma        High             0   \n",
            "2           Breast Invasive Ductal Carcinoma        High             1   \n",
            "3  Breast Mixed Ductal and Lobular Carcinoma    Moderate             1   \n",
            "4  Breast Mixed Ductal and Lobular Carcinoma        High             1   \n",
            "\n",
            "  pam50_+_claudin-low_subtype  cohort er_status_measured_by_ihc  ... mtap_mut  \\\n",
            "0                 claudin-low     1.0                   Positve  ...        0   \n",
            "1                        LumA     1.0                   Positve  ...        0   \n",
            "2                        LumB     1.0                   Positve  ...        0   \n",
            "3                        LumB     1.0                   Positve  ...        0   \n",
            "4                        LumB     1.0                   Positve  ...        0   \n",
            "\n",
            "   ppp2cb_mut smarcd1_mut nras_mut ndfip1_mut  hras_mut prps2_mut smarcb1_mut  \\\n",
            "0           0           0        0          0         0         0           0   \n",
            "1           0           0        0          0         0         0           0   \n",
            "2           0           0        0          0         0         0           0   \n",
            "3           0           0        0          0         0         0           0   \n",
            "4           0           0        0          0         0         0           0   \n",
            "\n",
            "  stmn2_mut  siah1_mut  \n",
            "0         0          0  \n",
            "1         0          0  \n",
            "2         0          0  \n",
            "3         0          0  \n",
            "4         0          0  \n",
            "\n",
            "[5 rows x 693 columns]\n"
          ]
        },
        {
          "output_type": "stream",
          "name": "stderr",
          "text": [
            "<ipython-input-2-d1acf6f9c97b>:4: DtypeWarning: Columns (678,688,690,692) have mixed types. Specify dtype option on import or set low_memory=False.\n",
            "  data = pd.read_csv('/content/METABRIC_RNA_Mutation.csv')\n"
          ]
        }
      ],
      "source": [
        "import pandas as pd\n",
        "\n",
        "# Load the data, you can access it here: https://www.kaggle.com/datasets/raghadalharbi/breast-cancer-gene-expression-profiles-metabric\n",
        "data = pd.read_csv('/content/METABRIC_RNA_Mutation.csv')\n",
        "\n",
        "# Take a look at the first few rows\n",
        "print(data.head())"
      ]
    },
    {
      "cell_type": "markdown",
      "source": [
        "# Data preprocessing"
      ],
      "metadata": {
        "id": "L0tKBr3Fy2l2"
      }
    },
    {
      "cell_type": "code",
      "source": [
        "# Example: Handling missing values by dropping rows with missing values\n",
        "data = data.dropna()"
      ],
      "metadata": {
        "id": "TTEnSiS0ykzs"
      },
      "execution_count": 3,
      "outputs": []
    },
    {
      "cell_type": "markdown",
      "source": [
        "# Splitting the data"
      ],
      "metadata": {
        "id": "aJJT-U7vzD6Y"
      }
    },
    {
      "cell_type": "code",
      "source": [
        "from sklearn.model_selection import train_test_split\n",
        "\n",
        "# Select all columns with categorical data (i.e., data of type 'object')\n",
        "all_categorical_columns = data.select_dtypes(include=['object']).columns.tolist()\n",
        "\n",
        "# Define a list of unwanted columns to exclude from the categorical columns list\n",
        "unwanted_columns = ['patient_id','death_from_cancer']\n",
        "\n",
        "# Remove the unwanted columns from the list of categorical columns\n",
        "all_categorical_columns = [ele for ele in all_categorical_columns if ele not in unwanted_columns]\n",
        "\n",
        "# Create dummy variables for all categorical columns and drop the 'patient_id' column\n",
        "dumm_df = pd.get_dummies(data.drop('patient_id',axis=1 ), columns= all_categorical_columns, dummy_na=True)\n",
        "\n",
        "# Define the feature matrix X and target vector y\n",
        "X = dumm_df.drop(['death_from_cancer','overall_survival'], axis=1)\n",
        "y = dumm_df['overall_survival']\n",
        "\n",
        "# Split the data into training and testing sets (67% training, 33% testing)\n",
        "X_train, X_test, y_train, y_test_all = train_test_split(X, y, test_size=0.33, random_state=42)"
      ],
      "metadata": {
        "id": "H4RdqRCMzE2e"
      },
      "execution_count": 5,
      "outputs": []
    },
    {
      "cell_type": "markdown",
      "source": [
        "# Training the model"
      ],
      "metadata": {
        "id": "DoMpomLnznp7"
      }
    },
    {
      "cell_type": "code",
      "source": [
        "from sklearn.linear_model import LogisticRegression\n",
        "\n",
        "# Create a logistic regression model\n",
        "model = LogisticRegression()\n",
        "\n",
        "# Train the model on the training data\n",
        "model.fit(X_train, y_train)"
      ],
      "metadata": {
        "id": "yOisg3qXzrJi",
        "colab": {
          "base_uri": "https://localhost:8080/",
          "height": 230
        },
        "outputId": "514e8cce-b6ec-4dfe-d0c0-042e0cf1e1b8"
      },
      "execution_count": 6,
      "outputs": [
        {
          "output_type": "stream",
          "name": "stderr",
          "text": [
            "/usr/local/lib/python3.9/dist-packages/sklearn/linear_model/_logistic.py:458: ConvergenceWarning: lbfgs failed to converge (status=1):\n",
            "STOP: TOTAL NO. of ITERATIONS REACHED LIMIT.\n",
            "\n",
            "Increase the number of iterations (max_iter) or scale the data as shown in:\n",
            "    https://scikit-learn.org/stable/modules/preprocessing.html\n",
            "Please also refer to the documentation for alternative solver options:\n",
            "    https://scikit-learn.org/stable/modules/linear_model.html#logistic-regression\n",
            "  n_iter_i = _check_optimize_result(\n"
          ]
        },
        {
          "output_type": "execute_result",
          "data": {
            "text/plain": [
              "LogisticRegression()"
            ],
            "text/html": [
              "<style>#sk-container-id-1 {color: black;background-color: white;}#sk-container-id-1 pre{padding: 0;}#sk-container-id-1 div.sk-toggleable {background-color: white;}#sk-container-id-1 label.sk-toggleable__label {cursor: pointer;display: block;width: 100%;margin-bottom: 0;padding: 0.3em;box-sizing: border-box;text-align: center;}#sk-container-id-1 label.sk-toggleable__label-arrow:before {content: \"▸\";float: left;margin-right: 0.25em;color: #696969;}#sk-container-id-1 label.sk-toggleable__label-arrow:hover:before {color: black;}#sk-container-id-1 div.sk-estimator:hover label.sk-toggleable__label-arrow:before {color: black;}#sk-container-id-1 div.sk-toggleable__content {max-height: 0;max-width: 0;overflow: hidden;text-align: left;background-color: #f0f8ff;}#sk-container-id-1 div.sk-toggleable__content pre {margin: 0.2em;color: black;border-radius: 0.25em;background-color: #f0f8ff;}#sk-container-id-1 input.sk-toggleable__control:checked~div.sk-toggleable__content {max-height: 200px;max-width: 100%;overflow: auto;}#sk-container-id-1 input.sk-toggleable__control:checked~label.sk-toggleable__label-arrow:before {content: \"▾\";}#sk-container-id-1 div.sk-estimator input.sk-toggleable__control:checked~label.sk-toggleable__label {background-color: #d4ebff;}#sk-container-id-1 div.sk-label input.sk-toggleable__control:checked~label.sk-toggleable__label {background-color: #d4ebff;}#sk-container-id-1 input.sk-hidden--visually {border: 0;clip: rect(1px 1px 1px 1px);clip: rect(1px, 1px, 1px, 1px);height: 1px;margin: -1px;overflow: hidden;padding: 0;position: absolute;width: 1px;}#sk-container-id-1 div.sk-estimator {font-family: monospace;background-color: #f0f8ff;border: 1px dotted black;border-radius: 0.25em;box-sizing: border-box;margin-bottom: 0.5em;}#sk-container-id-1 div.sk-estimator:hover {background-color: #d4ebff;}#sk-container-id-1 div.sk-parallel-item::after {content: \"\";width: 100%;border-bottom: 1px solid gray;flex-grow: 1;}#sk-container-id-1 div.sk-label:hover label.sk-toggleable__label {background-color: #d4ebff;}#sk-container-id-1 div.sk-serial::before {content: \"\";position: absolute;border-left: 1px solid gray;box-sizing: border-box;top: 0;bottom: 0;left: 50%;z-index: 0;}#sk-container-id-1 div.sk-serial {display: flex;flex-direction: column;align-items: center;background-color: white;padding-right: 0.2em;padding-left: 0.2em;position: relative;}#sk-container-id-1 div.sk-item {position: relative;z-index: 1;}#sk-container-id-1 div.sk-parallel {display: flex;align-items: stretch;justify-content: center;background-color: white;position: relative;}#sk-container-id-1 div.sk-item::before, #sk-container-id-1 div.sk-parallel-item::before {content: \"\";position: absolute;border-left: 1px solid gray;box-sizing: border-box;top: 0;bottom: 0;left: 50%;z-index: -1;}#sk-container-id-1 div.sk-parallel-item {display: flex;flex-direction: column;z-index: 1;position: relative;background-color: white;}#sk-container-id-1 div.sk-parallel-item:first-child::after {align-self: flex-end;width: 50%;}#sk-container-id-1 div.sk-parallel-item:last-child::after {align-self: flex-start;width: 50%;}#sk-container-id-1 div.sk-parallel-item:only-child::after {width: 0;}#sk-container-id-1 div.sk-dashed-wrapped {border: 1px dashed gray;margin: 0 0.4em 0.5em 0.4em;box-sizing: border-box;padding-bottom: 0.4em;background-color: white;}#sk-container-id-1 div.sk-label label {font-family: monospace;font-weight: bold;display: inline-block;line-height: 1.2em;}#sk-container-id-1 div.sk-label-container {text-align: center;}#sk-container-id-1 div.sk-container {/* jupyter's `normalize.less` sets `[hidden] { display: none; }` but bootstrap.min.css set `[hidden] { display: none !important; }` so we also need the `!important` here to be able to override the default hidden behavior on the sphinx rendered scikit-learn.org. See: https://github.com/scikit-learn/scikit-learn/issues/21755 */display: inline-block !important;position: relative;}#sk-container-id-1 div.sk-text-repr-fallback {display: none;}</style><div id=\"sk-container-id-1\" class=\"sk-top-container\"><div class=\"sk-text-repr-fallback\"><pre>LogisticRegression()</pre><b>In a Jupyter environment, please rerun this cell to show the HTML representation or trust the notebook. <br />On GitHub, the HTML representation is unable to render, please try loading this page with nbviewer.org.</b></div><div class=\"sk-container\" hidden><div class=\"sk-item\"><div class=\"sk-estimator sk-toggleable\"><input class=\"sk-toggleable__control sk-hidden--visually\" id=\"sk-estimator-id-1\" type=\"checkbox\" checked><label for=\"sk-estimator-id-1\" class=\"sk-toggleable__label sk-toggleable__label-arrow\">LogisticRegression</label><div class=\"sk-toggleable__content\"><pre>LogisticRegression()</pre></div></div></div></div></div>"
            ]
          },
          "metadata": {},
          "execution_count": 6
        }
      ]
    },
    {
      "cell_type": "markdown",
      "source": [
        "# Evaluating the model"
      ],
      "metadata": {
        "id": "QeZBtNenztaV"
      }
    },
    {
      "cell_type": "code",
      "source": [
        "from sklearn.metrics import accuracy_score\n",
        "\n",
        "# Make predictions on the testing data\n",
        "y_pred = model.predict(X_test)\n",
        "\n",
        "# Calculate the accuracy of the model\n",
        "accuracy = accuracy_score(y_test_all, y_pred)\n",
        "\n",
        "print(f'Accuracy: {accuracy}')"
      ],
      "metadata": {
        "id": "B8VfahtPztlE",
        "colab": {
          "base_uri": "https://localhost:8080/"
        },
        "outputId": "3c21eb23-cc28-490b-b08b-37489d508781"
      },
      "execution_count": 7,
      "outputs": [
        {
          "output_type": "stream",
          "name": "stdout",
          "text": [
            "Accuracy: 0.7562326869806094\n"
          ]
        }
      ]
    }
  ]
}